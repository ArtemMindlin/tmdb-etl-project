{
 "cells": [
  {
   "cell_type": "code",
   "execution_count": 99,
   "metadata": {},
   "outputs": [],
   "source": [
    "import json\n",
    "import pandas as pd\n",
    "\n",
    "with open(\"../data/raw/tmdb_popular.json\") as f:\n",
    "    pop_data = json.load(f)\n",
    "\n",
    "with open(\"../data/raw/tmdb_top_rated.json\") as f:\n",
    "    topr_data = json.load(f)\n",
    "\n",
    "with open(\"../data/raw/tmdb_upcoming.json\") as f:\n",
    "    upc_data = json.load(f)\n",
    "\n",
    "with open(\"../data/raw/genres.json\") as f:\n",
    "    genres_data = json.load(f)\n",
    "\n",
    "pop_movies = []\n",
    "topr_movies = []\n",
    "upc_movies = []\n",
    "\n",
    "for page_data in pop_data.values():\n",
    "    results = page_data.get(\"results\", [])\n",
    "    pop_movies.extend(results)\n",
    "for page_data in topr_data.values():\n",
    "    results = page_data.get(\"results\", [])\n",
    "    topr_movies.extend(results)\n",
    "for page_data in upc_data.values():\n",
    "    results = page_data.get(\"results\", [])\n",
    "    upc_movies.extend(results)"
   ]
  },
  {
   "cell_type": "code",
   "execution_count": 100,
   "metadata": {},
   "outputs": [],
   "source": [
    "df_pop = pd.DataFrame(pop_movies)\n",
    "df_topr = pd.DataFrame(topr_movies)\n",
    "df_upc = pd.DataFrame(upc_movies)\n",
    "df_genres = pd.DataFrame(genres_data['genres'])"
   ]
  },
  {
   "cell_type": "code",
   "execution_count": 101,
   "metadata": {},
   "outputs": [],
   "source": [
    "def optimize_df(df, parse_dates=None, verbose=True):\n",
    "    import numpy as np\n",
    "    import pandas as pd\n",
    "\n",
    "    start_mem = df.memory_usage(deep=True).sum() / 1024**2\n",
    "\n",
    "    for col in df.columns:\n",
    "        col_type = df[col].dtype\n",
    "\n",
    "        # Skip columns that contain lists (like genre_ids)\n",
    "        if df[col].apply(lambda x: isinstance(x, list)).any():\n",
    "            continue\n",
    "\n",
    "        if col_type in [\"int64\", \"int32\"]:\n",
    "            if (\n",
    "                df[col].min() >= np.iinfo(\"int8\").min\n",
    "                and df[col].max() <= np.iinfo(\"int8\").max\n",
    "            ):\n",
    "                df[col] = df[col].astype(\"int8\")\n",
    "            elif (\n",
    "                df[col].min() >= np.iinfo(\"int16\").min\n",
    "                and df[col].max() <= np.iinfo(\"int16\").max\n",
    "            ):\n",
    "                df[col] = df[col].astype(\"int16\")\n",
    "            elif (\n",
    "                df[col].min() >= np.iinfo(\"int32\").min\n",
    "                and df[col].max() <= np.iinfo(\"int32\").max\n",
    "            ):\n",
    "                df[col] = df[col].astype(\"int32\")\n",
    "\n",
    "        elif col_type == \"float64\":\n",
    "            df[col] = df[col].astype(\"float32\")\n",
    "\n",
    "        elif col_type == \"object\":\n",
    "            if parse_dates and col in parse_dates:\n",
    "                df[col] = pd.to_datetime(df[col], errors=\"coerce\")\n",
    "            else:\n",
    "                num_unique = df[col].nunique()\n",
    "                num_total = len(df[col])\n",
    "                if num_unique / num_total < 0.5:\n",
    "                    df[col] = df[col].astype(\"category\")\n",
    "                else:\n",
    "                    df[col] = df[col].astype(\"string\")\n",
    "\n",
    "    end_mem = df.memory_usage(deep=True).sum() / 1024**2\n",
    "    if verbose:\n",
    "        print(\n",
    "            f\"🔧 Memory usage reduced from {start_mem:.2f} MB to {end_mem:.2f} MB \"\n",
    "            f\"({100 * (start_mem - end_mem) / start_mem:.1f}% reduction)\"\n",
    "        )\n",
    "\n",
    "    return df"
   ]
  },
  {
   "cell_type": "code",
   "execution_count": 102,
   "metadata": {},
   "outputs": [
    {
     "name": "stdout",
     "output_type": "stream",
     "text": [
      "🔧 Memory usage reduced from 0.00 MB to 0.00 MB (7.6% reduction)\n"
     ]
    }
   ],
   "source": [
    "df_genres = optimize_df(df_genres)"
   ]
  },
  {
   "cell_type": "code",
   "execution_count": 103,
   "metadata": {},
   "outputs": [
    {
     "data": {
      "text/plain": [
       "id               int16\n",
       "name    string[python]\n",
       "dtype: object"
      ]
     },
     "execution_count": 103,
     "metadata": {},
     "output_type": "execute_result"
    }
   ],
   "source": [
    "df_genres.dtypes"
   ]
  },
  {
   "cell_type": "code",
   "execution_count": 104,
   "metadata": {},
   "outputs": [
    {
     "name": "stdout",
     "output_type": "stream",
     "text": [
      "🔧 Memory usage reduced from 9.17 MB to 8.50 MB (7.3% reduction)\n"
     ]
    }
   ],
   "source": [
    "df_pop = optimize_df(df_pop, parse_dates='release_date')"
   ]
  },
  {
   "cell_type": "code",
   "execution_count": 105,
   "metadata": {},
   "outputs": [
    {
     "data": {
      "text/plain": [
       "adult                          bool\n",
       "backdrop_path        string[python]\n",
       "genre_ids                    object\n",
       "id                            int32\n",
       "original_language          category\n",
       "original_title       string[python]\n",
       "overview             string[python]\n",
       "popularity                  float32\n",
       "poster_path          string[python]\n",
       "release_date         datetime64[ns]\n",
       "title                string[python]\n",
       "video                          bool\n",
       "vote_average                float32\n",
       "vote_count                    int32\n",
       "dtype: object"
      ]
     },
     "execution_count": 105,
     "metadata": {},
     "output_type": "execute_result"
    }
   ],
   "source": [
    "df_pop.dtypes"
   ]
  },
  {
   "cell_type": "code",
   "execution_count": 106,
   "metadata": {},
   "outputs": [
    {
     "name": "stdout",
     "output_type": "stream",
     "text": [
      "🔧 Memory usage reduced from 0.97 MB to 0.94 MB (2.8% reduction)\n"
     ]
    }
   ],
   "source": [
    "df_upc = optimize_df(df_upc,parse_dates='release_date')"
   ]
  },
  {
   "cell_type": "code",
   "execution_count": 107,
   "metadata": {},
   "outputs": [
    {
     "name": "stdout",
     "output_type": "stream",
     "text": [
      "🔧 Memory usage reduced from 9.09 MB to 8.34 MB (8.3% reduction)\n"
     ]
    }
   ],
   "source": [
    "df_topr = optimize_df(df_topr, parse_dates='release_date')"
   ]
  },
  {
   "cell_type": "code",
   "execution_count": null,
   "metadata": {},
   "outputs": [],
   "source": []
  }
 ],
 "metadata": {
  "kernelspec": {
   "display_name": "venv",
   "language": "python",
   "name": "python3"
  },
  "language_info": {
   "codemirror_mode": {
    "name": "ipython",
    "version": 3
   },
   "file_extension": ".py",
   "mimetype": "text/x-python",
   "name": "python",
   "nbconvert_exporter": "python",
   "pygments_lexer": "ipython3",
   "version": "3.11.0"
  }
 },
 "nbformat": 4,
 "nbformat_minor": 2
}
