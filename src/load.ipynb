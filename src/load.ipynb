{
 "cells": [
  {
   "cell_type": "code",
   "execution_count": 23,
   "metadata": {},
   "outputs": [],
   "source": [
    "import sqlite3\n",
    "import pandas as pd"
   ]
  },
  {
   "cell_type": "code",
   "execution_count": 41,
   "metadata": {},
   "outputs": [],
   "source": [
    "df_pop = pd.read_csv(\n",
    "    \"../data/processed/tmdb_popular.csv\",\n",
    "    quotechar='\"',\n",
    "    engine=\"python\", \n",
    ")\n",
    "\n",
    "df_topr = pd.read_csv(\n",
    "    \"../data/processed/tmdb_top_rated.csv\",\n",
    "    quotechar='\"',\n",
    "    engine=\"python\",\n",
    ")\n",
    "\n",
    "df_upc = pd.read_csv(\n",
    "    \"../data/processed/tmdb_upcoming.csv\",\n",
    "    quotechar='\"',\n",
    "    engine=\"python\",\n",
    ")"
   ]
  },
  {
   "cell_type": "code",
   "execution_count": 35,
   "metadata": {},
   "outputs": [],
   "source": [
    "con = sqlite3.connect(\"../sql/tmdb_etl.db\")"
   ]
  },
  {
   "cell_type": "code",
   "execution_count": 42,
   "metadata": {},
   "outputs": [
    {
     "data": {
      "text/plain": [
       "1116"
      ]
     },
     "execution_count": 42,
     "metadata": {},
     "output_type": "execute_result"
    }
   ],
   "source": [
    "df_pop.to_sql(\"popular\", con=con, if_exists=\"replace\", index=False)\n",
    "df_topr.to_sql(\"top_rated\", con=con, if_exists=\"replace\", index=False)\n",
    "df_upc.to_sql(\"upcoming\", con=con, if_exists=\"replace\", index=False)"
   ]
  },
  {
   "cell_type": "code",
   "execution_count": 45,
   "metadata": {},
   "outputs": [
    {
     "name": "stdout",
     "output_type": "stream",
     "text": [
      "        id original_language                    original_title  \\\n",
      "0  1125899                en                           Cleaner   \n",
      "1  1165067                en                      Cosmic Chaos   \n",
      "2   822119                en  Captain America: Brave New World   \n",
      "3  1373723                en                  The Codes of War   \n",
      "4  1229730                fr                        Carjackers   \n",
      "\n",
      "                                            overview  popularity release_date  \\\n",
      "0  When a group of radical activists take over an...  482.411499   2025-02-19   \n",
      "1  Battles in virtual reality, survival in a post...  416.371094   2023-08-03   \n",
      "2  After meeting with newly elected U.S. Presiden...  391.166992   2025-02-12   \n",
      "3  War stories about family, ethics and honor inc...  360.009308   2025-03-20   \n",
      "4  By day, they're invisible—valets, hostesses, a...  398.268097   2025-03-27   \n",
      "\n",
      "                              title       vote_average  vote_count  \\\n",
      "0                           Cleaner  6.699999809265137       120.0   \n",
      "1                      Cosmic Chaos  5.735000133514404        17.0   \n",
      "2  Captain America: Brave New World  6.099999904632568      1157.0   \n",
      "3                  The Codes of War  6.800000190734863        13.0   \n",
      "4                        Carjackers  6.800000190734863        21.0   \n",
      "\n",
      "                                          poster_url  \\\n",
      "0  https://image.tmdb.org/t/p/w342/2KIqFpvjVI6mNB...   \n",
      "1  https://image.tmdb.org/t/p/w342/mClzWv7gBqgXfj...   \n",
      "2  https://image.tmdb.org/t/p/w342/pzIddUEMWhWzfv...   \n",
      "3  https://image.tmdb.org/t/p/w342/oXeiQAfRK90pxx...   \n",
      "4  https://image.tmdb.org/t/p/w342/6QZ3B6R3PTL54A...   \n",
      "\n",
      "                                        backdrop_url release_year  \\\n",
      "0  https://image.tmdb.org/t/p/w780/gsQJOfeW45KLiQ...         2025   \n",
      "1  https://image.tmdb.org/t/p/w780/m2mzlsJjE3UAqe...         2023   \n",
      "2  https://image.tmdb.org/t/p/w780/8eifdha9GQeZAk...         2025   \n",
      "3  https://image.tmdb.org/t/p/w780/ibF5XVxTzf1ayz...         2025   \n",
      "4  https://image.tmdb.org/t/p/w780/is9bmV6uYXu7Lj...         2025   \n",
      "\n",
      "  release_month popularity_level rating_level  \\\n",
      "0             2        very high      average   \n",
      "1             8        very high      average   \n",
      "2             2        very high      average   \n",
      "3             3        very high      average   \n",
      "4             3        very high      average   \n",
      "\n",
      "                                      genres  \\\n",
      "0                     ['Action', 'Thriller']   \n",
      "1            ['Thriller', 'Science Fiction']   \n",
      "2  ['Action', 'Thriller', 'Science Fiction']   \n",
      "3                          ['Action', 'War']   \n",
      "4                    ['Action', 'Adventure']   \n",
      "\n",
      "                          genres_str  \n",
      "0                   Action, Thriller  \n",
      "1          Thriller, Science Fiction  \n",
      "2  Action, Thriller, Science Fiction  \n",
      "3                        Action, War  \n",
      "4                  Action, Adventure  \n"
     ]
    }
   ],
   "source": [
    "df_check = pd.read_sql(\"SELECT * FROM popular LIMIT 5\", con)\n",
    "print(df_check)"
   ]
  },
  {
   "cell_type": "code",
   "execution_count": 4,
   "metadata": {},
   "outputs": [
    {
     "data": {
      "text/plain": [
       "<sqlite3.Cursor at 0x10b2c2dc0>"
      ]
     },
     "execution_count": 4,
     "metadata": {},
     "output_type": "execute_result"
    }
   ],
   "source": [
    "cur.execute(\"CREATE TABLE movie(title, year, score)\")"
   ]
  },
  {
   "cell_type": "code",
   "execution_count": 5,
   "metadata": {},
   "outputs": [
    {
     "data": {
      "text/plain": [
       "('movie',)"
      ]
     },
     "execution_count": 5,
     "metadata": {},
     "output_type": "execute_result"
    }
   ],
   "source": []
  },
  {
   "cell_type": "code",
   "execution_count": 6,
   "metadata": {},
   "outputs": [
    {
     "data": {
      "text/plain": [
       "True"
      ]
     },
     "execution_count": 6,
     "metadata": {},
     "output_type": "execute_result"
    }
   ],
   "source": [
    "res = cur.execute(\"SELECT name FROM sqlite_master WHERE name='spam'\")\n",
    "res.fetchone() is None"
   ]
  },
  {
   "cell_type": "code",
   "execution_count": 7,
   "metadata": {},
   "outputs": [
    {
     "data": {
      "text/plain": [
       "<sqlite3.Cursor at 0x10b2c2dc0>"
      ]
     },
     "execution_count": 7,
     "metadata": {},
     "output_type": "execute_result"
    }
   ],
   "source": [
    "cur.execute(\n",
    "    \"\"\"\n",
    "    INSERT INTO movie VALUES\n",
    "        ('Monty Python and the Holy Grail', 1975, 8.2),\n",
    "        ('And Now for Something Completely Different', 1971, 7.5)\n",
    "\"\"\"\n",
    ")"
   ]
  },
  {
   "cell_type": "code",
   "execution_count": 8,
   "metadata": {},
   "outputs": [],
   "source": [
    "con.commit()"
   ]
  },
  {
   "cell_type": "code",
   "execution_count": 9,
   "metadata": {},
   "outputs": [
    {
     "data": {
      "text/plain": [
       "[(8.2,), (7.5,)]"
      ]
     },
     "execution_count": 9,
     "metadata": {},
     "output_type": "execute_result"
    }
   ],
   "source": [
    "res = cur.execute(\"SELECT score FROM movie\")\n",
    "res.fetchall()"
   ]
  },
  {
   "cell_type": "code",
   "execution_count": 10,
   "metadata": {},
   "outputs": [],
   "source": [
    "data = [\n",
    "    (\"Monty Python Live at the Hollywood Bowl\", 1982, 7.9),\n",
    "    (\"Monty Python's The Meaning of Life\", 1983, 7.5),\n",
    "    (\"Monty Python's Life of Brian\", 1979, 8.0),\n",
    "]\n",
    "cur.executemany(\"INSERT INTO movie VALUES(?, ?, ?)\", data)\n",
    "con.commit()  # Remember to commit the transaction after executing INSERT."
   ]
  },
  {
   "cell_type": "code",
   "execution_count": 12,
   "metadata": {},
   "outputs": [
    {
     "data": {
      "text/plain": [
       "<sqlite3.Cursor at 0x10b2c2dc0>"
      ]
     },
     "execution_count": 12,
     "metadata": {},
     "output_type": "execute_result"
    }
   ],
   "source": [
    "cur.execute(\"SELECT year, title FROM movie ORDER BY year\")"
   ]
  },
  {
   "cell_type": "code",
   "execution_count": 11,
   "metadata": {},
   "outputs": [
    {
     "name": "stdout",
     "output_type": "stream",
     "text": [
      "(1971, 'And Now for Something Completely Different')\n",
      "(1975, 'Monty Python and the Holy Grail')\n",
      "(1979, \"Monty Python's Life of Brian\")\n",
      "(1982, 'Monty Python Live at the Hollywood Bowl')\n",
      "(1983, \"Monty Python's The Meaning of Life\")\n"
     ]
    }
   ],
   "source": [
    "for row in cur.execute(\"SELECT year, title FROM movie ORDER BY year\"):\n",
    "    print(row)"
   ]
  },
  {
   "cell_type": "code",
   "execution_count": 14,
   "metadata": {},
   "outputs": [
    {
     "name": "stdout",
     "output_type": "stream",
     "text": [
      "The highest scoring Monty Python movie is 'Monty Python and the Holy Grail', released in 1975\n"
     ]
    }
   ],
   "source": [
    "con.close()\n",
    "new_con = sqlite3.connect(\"../sql/tutorial.db\")\n",
    "new_cur = new_con.cursor()\n",
    "res = new_cur.execute(\"SELECT title, year FROM movie ORDER BY score DESC\")\n",
    "title, year = res.fetchone()\n",
    "print(f\"The highest scoring Monty Python movie is {title!r}, released in {year}\")\n",
    "new_con.close()"
   ]
  },
  {
   "cell_type": "code",
   "execution_count": null,
   "metadata": {},
   "outputs": [],
   "source": []
  }
 ],
 "metadata": {
  "kernelspec": {
   "display_name": "venv",
   "language": "python",
   "name": "python3"
  },
  "language_info": {
   "codemirror_mode": {
    "name": "ipython",
    "version": 3
   },
   "file_extension": ".py",
   "mimetype": "text/x-python",
   "name": "python",
   "nbconvert_exporter": "python",
   "pygments_lexer": "ipython3",
   "version": "3.11.0"
  }
 },
 "nbformat": 4,
 "nbformat_minor": 2
}
